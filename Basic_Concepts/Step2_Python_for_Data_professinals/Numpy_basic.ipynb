{
 "cells": [
  {
   "cell_type": "code",
   "execution_count": 1,
   "id": "89e350c2",
   "metadata": {},
   "outputs": [],
   "source": [
    "import numpy as np"
   ]
  },
  {
   "cell_type": "code",
   "execution_count": 2,
   "id": "4c018fe6",
   "metadata": {},
   "outputs": [
    {
     "data": {
      "text/plain": [
       "array([ 2,  8, 18])"
      ]
     },
     "execution_count": 2,
     "metadata": {},
     "output_type": "execute_result"
    }
   ],
   "source": [
    "a = [1, 2, 3]\n",
    "b = [2, 4, 6]\n",
    "\n",
    "# Convert lists to arrays.\n",
    "array_a = np.array(a)\n",
    "array_b = np.array(b)\n",
    "\n",
    "# Perform element-wise multiplication between the arrays.\n",
    "array_a * array_b"
   ]
  },
  {
   "cell_type": "markdown",
   "id": "815593b6",
   "metadata": {},
   "source": [
    "# Basic array operations\n",
    "\n",
    "- create an array\n",
    "- indexing\n",
    "- check data type \n",
    "- check dimension/shape attributs\n",
    "- reshape "
   ]
  },
  {
   "cell_type": "code",
   "execution_count": 4,
   "id": "d3f3fbf6",
   "metadata": {},
   "outputs": [
    {
     "data": {
      "text/plain": [
       "array([1, 2, 3, 4])"
      ]
     },
     "execution_count": 4,
     "metadata": {},
     "output_type": "execute_result"
    }
   ],
   "source": [
    "# The np.array() function converts an object to an ndarray\n",
    "x = np.array([1, 2, 3, 4])\n",
    "x"
   ]
  },
  {
   "cell_type": "code",
   "execution_count": 8,
   "id": "6ef48e3d",
   "metadata": {},
   "outputs": [
    {
     "data": {
      "text/plain": [
       "array([1, 2, 3, 5])"
      ]
     },
     "execution_count": 8,
     "metadata": {},
     "output_type": "execute_result"
    }
   ],
   "source": [
    "# Arrays can be indexed.\n",
    "x[-1] = 5\n",
    "x"
   ]
  },
  {
   "cell_type": "code",
   "execution_count": 9,
   "id": "1a0863b6",
   "metadata": {},
   "outputs": [
    {
     "data": {
      "text/plain": [
       "dtype('int32')"
      ]
     },
     "execution_count": 9,
     "metadata": {},
     "output_type": "execute_result"
    }
   ],
   "source": [
    "# The dtype attribute returns the data type of an array's contents.\n",
    "x.dtype"
   ]
  },
  {
   "cell_type": "code",
   "execution_count": 6,
   "id": "21c74ffc",
   "metadata": {},
   "outputs": [
    {
     "data": {
      "text/plain": [
       "array(['1', '2', 'coconut'], dtype='<U11')"
      ]
     },
     "execution_count": 6,
     "metadata": {},
     "output_type": "execute_result"
    }
   ],
   "source": [
    "# Arrays cast every element they contain as the same data type.\n",
    "arr = np.array([1, 2, 'coconut'])\n",
    "arr"
   ]
  },
  {
   "cell_type": "code",
   "execution_count": 7,
   "id": "aafdfc97",
   "metadata": {},
   "outputs": [
    {
     "name": "stdout",
     "output_type": "stream",
     "text": [
      "<class 'numpy.ndarray'>\n"
     ]
    }
   ],
   "source": [
    "# NumPy arrays are a class called `ndarray`.\n",
    "print(type(arr))"
   ]
  },
  {
   "cell_type": "code",
   "execution_count": 22,
   "id": "03ad668a",
   "metadata": {},
   "outputs": [
    {
     "name": "stdout",
     "output_type": "stream",
     "text": [
      "(3,)\n",
      "1\n"
     ]
    }
   ],
   "source": [
    "# Check dimension/shape\n",
    "arr = np.array([1, 2, 3])\n",
    "# The shape attribute returns the number of elements in each dimension\n",
    "# of an array.\n",
    "print(arr.shape)\n",
    "# The ndim attribute returns the number of dimensions in an array.\n",
    "print(arr.ndim)"
   ]
  },
  {
   "cell_type": "code",
   "execution_count": 13,
   "id": "614281f0",
   "metadata": {},
   "outputs": [
    {
     "name": "stdout",
     "output_type": "stream",
     "text": [
      "(4, 2)\n",
      "2\n"
     ]
    },
    {
     "data": {
      "text/plain": [
       "array([[1, 2],\n",
       "       [3, 4],\n",
       "       [5, 6],\n",
       "       [7, 8]])"
      ]
     },
     "execution_count": 13,
     "metadata": {},
     "output_type": "execute_result"
    }
   ],
   "source": [
    "# Dimension and shape for 2D array\n",
    "arr_2d = np.array([[1, 2], [3, 4], [5, 6], [7, 8]])\n",
    "print(arr_2d.shape)\n",
    "print(arr_2d.ndim)\n",
    "arr_2d"
   ]
  },
  {
   "cell_type": "code",
   "execution_count": 15,
   "id": "5c1b673a",
   "metadata": {},
   "outputs": [
    {
     "name": "stdout",
     "output_type": "stream",
     "text": [
      "(2, 2, 3)\n",
      "3\n"
     ]
    },
    {
     "data": {
      "text/plain": [
       "array([[[1, 2, 3],\n",
       "        [3, 4, 5]],\n",
       "\n",
       "       [[5, 6, 7],\n",
       "        [7, 8, 9]]])"
      ]
     },
     "execution_count": 15,
     "metadata": {},
     "output_type": "execute_result"
    }
   ],
   "source": [
    "# 3D\n",
    "arr_3d = np.array([[[1, 2, 3],\n",
    "                   [3, 4, 5]],\n",
    "\n",
    "                  [[5, 6, 7],\n",
    "                   [7, 8, 9]]]\n",
    ")\n",
    "\n",
    "print(arr_3d.shape)\n",
    "print(arr_3d.ndim)\n",
    "arr_3d"
   ]
  },
  {
   "cell_type": "code",
   "execution_count": 16,
   "id": "418462b1",
   "metadata": {},
   "outputs": [
    {
     "data": {
      "text/plain": [
       "array([[1, 2, 3, 4],\n",
       "       [5, 6, 7, 8]])"
      ]
     },
     "execution_count": 16,
     "metadata": {},
     "output_type": "execute_result"
    }
   ],
   "source": [
    "# The reshape() method changes the shape of an array.\n",
    "arr_2d = arr_2d.reshape(2, 4)\n",
    "arr_2d"
   ]
  },
  {
   "cell_type": "code",
   "execution_count": 21,
   "id": "e09f2ad8",
   "metadata": {},
   "outputs": [
    {
     "data": {
      "text/plain": [
       "array([[0.90954292, 0.40599278, 0.57090715],\n",
       "       [0.43506173, 0.58758674, 0.20957278],\n",
       "       [0.60010318, 0.17821083, 0.24955373]])"
      ]
     },
     "execution_count": 21,
     "metadata": {},
     "output_type": "execute_result"
    }
   ],
   "source": [
    "a= np.random.rand(9).reshape(3,3)\n",
    "a"
   ]
  },
  {
   "cell_type": "code",
   "execution_count": 36,
   "id": "3350aa32",
   "metadata": {},
   "outputs": [
    {
     "name": "stdout",
     "output_type": "stream",
     "text": [
      "the mean of array [1 2 3 4 5] is :3.0\n",
      "the log of array [1 2 3 4 5] is [0.         0.69314718 1.09861229 1.38629436 1.60943791]\n",
      "the rounded down value for 8.6 is 8.0\n",
      "the rounded down value up 8.6 is 9.0\n"
     ]
    }
   ],
   "source": [
    "# some basic operations\n",
    "arr = np.array([1, 2, 3, 4, 5])\n",
    "\n",
    "# The mean() method returns the mean of the elements in an array.\n",
    "print('the mean of array {} is :{}'.format(arr,np.mean(arr)))\n",
    "\n",
    "# The log() method returns the natural logarithm of the elements in an array.\n",
    "\n",
    "print('the log of array {} is {}'.format(arr,np.log(arr)))\n",
    "\n",
    "# The floor() method returns the value of a number rounded down\n",
    "# to the nearest integer.\n",
    "print('the rounded down value for {} is {}'.format(8.6,np.floor(8.6)))\n",
    "\n",
    "\n",
    "# The ceil() method returns the value of a number rounded up\n",
    "# to the nearest integer.\n",
    "print('the rounded down value up {} is {}'.format(8.6,np.ceil(8.6)))\n"
   ]
  },
  {
   "cell_type": "code",
   "execution_count": 38,
   "id": "499b1406",
   "metadata": {},
   "outputs": [
    {
     "name": "stdout",
     "output_type": "stream",
     "text": [
      "Max = 5\n",
      "Min = 1\n",
      "Median = 3.0\n",
      "Std = 1.4142135623730951\n"
     ]
    }
   ],
   "source": [
    "print('Max =', np.max(arr))\n",
    "print('Min =', np.min(arr))\n",
    "print('Median =', np.median(arr))\n",
    "print('Std =', np.std(arr))"
   ]
  },
  {
   "cell_type": "markdown",
   "id": "2897db48",
   "metadata": {},
   "source": [
    "# Tips\n",
    "- Arrays are useful for performing element-wise operations, including arithmetic and comparisons.\n",
    "- Arrays are similar to lists, but only store one type of data per array.\n",
    "- Processing data stored in an array is much quicker than processing data stored in traditional lists."
   ]
  }
 ],
 "metadata": {
  "kernelspec": {
   "display_name": "conda_py11",
   "language": "python",
   "name": "py11"
  },
  "language_info": {
   "codemirror_mode": {
    "name": "ipython",
    "version": 3
   },
   "file_extension": ".py",
   "mimetype": "text/x-python",
   "name": "python",
   "nbconvert_exporter": "python",
   "pygments_lexer": "ipython3",
   "version": "3.11.5"
  }
 },
 "nbformat": 4,
 "nbformat_minor": 5
}
