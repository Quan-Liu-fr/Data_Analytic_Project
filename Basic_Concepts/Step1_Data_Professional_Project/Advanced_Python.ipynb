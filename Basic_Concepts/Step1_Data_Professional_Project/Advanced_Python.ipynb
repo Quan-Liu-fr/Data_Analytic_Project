{
 "cells": [
  {
   "cell_type": "markdown",
   "id": "89f1b625",
   "metadata": {},
   "source": [
    "# List and tuple"
   ]
  },
  {
   "cell_type": "code",
   "execution_count": 5,
   "id": "36488bd0",
   "metadata": {},
   "outputs": [
    {
     "name": "stdout",
     "output_type": "stream",
     "text": [
      "<zip object at 0x000001C092CE52C0>\n",
      "[('a', 1), ('b', 2), ('c', 3)]\n",
      "a\n",
      "1\n",
      "b\n",
      "2\n",
      "c\n",
      "3\n"
     ]
    }
   ],
   "source": [
    "# using the zip() function\n",
    "'''\n",
    "This function accepts any number of iterable objects as arguments. \n",
    "If the arguments are all of equal length, the function returns an iterator object of tuples, \n",
    "where each tuple contains element[i] of each argument.\n",
    "'''\n",
    "a = ['a', 'b', 'c']\n",
    "b = [1, 2, 3]\n",
    "c = zip(a, b)\n",
    "print(c)\n",
    "print(list(c))\n",
    "for i, j in zip(a,b):\n",
    "    print(i)\n",
    "    print(j)"
   ]
  },
  {
   "cell_type": "code",
   "execution_count": null,
   "id": "1bbfdef4",
   "metadata": {},
   "outputs": [],
   "source": [
    "# Use list comprehension to convert to list of lists\n",
    "state_names = [\"Arizona\", \"California\", \"California\", \"Kentucky\", \"Louisiana\"]\n",
    "county_names = [\"Maricopa\", \"Alameda\", \"Sacramento\", \"Jefferson\", \"East Baton Rouge\"]\n",
    "state_county_tuples = []\n",
    "for i in range(len(state_names)):\n",
    "    state_county_tuples.append((state_names[i], county_names[i]))\n",
    "\n",
    "print(state_county_tuples)\n",
    "\n",
    "state_county_lists = [list(i) for i in state_county_tuples]\n",
    "state_county_lists"
   ]
  },
  {
   "cell_type": "code",
   "execution_count": 7,
   "id": "8591fef8",
   "metadata": {},
   "outputs": [
    {
     "data": {
      "text/plain": [
       "['Alameda', 'Sacramento']"
      ]
     },
     "execution_count": 7,
     "metadata": {},
     "output_type": "execute_result"
    }
   ],
   "source": [
    "# Unpacking an iterable\n",
    "ca_counties = []\n",
    "for state, county in state_county_tuples:\n",
    "    if state=='California':\n",
    "        ca_counties.append(county)\n",
    "ca_counties"
   ]
  },
  {
   "cell_type": "code",
   "execution_count": 8,
   "id": "8df57aae",
   "metadata": {},
   "outputs": [
    {
     "data": {
      "text/plain": [
       "['Alameda', 'Sacramento']"
      ]
     },
     "execution_count": 8,
     "metadata": {},
     "output_type": "execute_result"
    }
   ],
   "source": [
    "# Unpacking in a list comprehension\n",
    "ca_counties = [county for (state, county) in state_county_tuples if state=='California']\n",
    "ca_counties"
   ]
  },
  {
   "cell_type": "markdown",
   "id": "6e66aa1d",
   "metadata": {},
   "source": [
    "# Tips\n",
    "\n",
    "- Lists and tuples are important iterable data types in Python that share many characteristics.\n",
    "- Tuples in Python are useful for storing data in ordered sequences that are preserved and cannot be modified after creation.\n",
    "- The `zip()` function is very useful for combining iterable objects element-wise.\n",
    "- Tuples and lists can be unpacked.\n",
    "- List comprehensions are quick and efficient ways to execute loop-like processes in a single line of code that results in a list.\n"
   ]
  },
  {
   "cell_type": "markdown",
   "id": "3c846082",
   "metadata": {},
   "source": [
    "# Dictionaries and Sets"
   ]
  },
  {
   "cell_type": "markdown",
   "id": "35e298c8",
   "metadata": {},
   "source": [
    "# Tips\n",
    "\n",
    "- Python has many built-in functions that are useful for building dictionaries and sets.\n",
    "- Dictionaries in Python are useful for representing data in terms of keys mapped to values.\n",
    "- A set will not allow duplicate values.\n",
    "    - The values a set contains are unchangable and unordered.\n",
    "- Functions and loop iteration can be used to perform calculations on dictionary values.\n",
    "    - Once the values have been calculated, they can be saved to other data types, such as tuples, lists, and sets.\n",
    "- There are many ways to access data stored inside a dictionary."
   ]
  }
 ],
 "metadata": {
  "kernelspec": {
   "display_name": "conda_py11",
   "language": "python",
   "name": "py11"
  },
  "language_info": {
   "codemirror_mode": {
    "name": "ipython",
    "version": 3
   },
   "file_extension": ".py",
   "mimetype": "text/x-python",
   "name": "python",
   "nbconvert_exporter": "python",
   "pygments_lexer": "ipython3",
   "version": "3.11.5"
  }
 },
 "nbformat": 4,
 "nbformat_minor": 5
}
