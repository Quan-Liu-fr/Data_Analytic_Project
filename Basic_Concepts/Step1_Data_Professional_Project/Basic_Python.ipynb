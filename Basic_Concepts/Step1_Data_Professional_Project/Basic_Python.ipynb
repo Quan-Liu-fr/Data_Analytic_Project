{
 "cells": [
  {
   "cell_type": "markdown",
   "id": "14986d8c",
   "metadata": {},
   "source": [
    "# Hello, Python\n",
    "Python basic"
   ]
  },
  {
   "cell_type": "code",
   "execution_count": 1,
   "id": "d00e6272",
   "metadata": {},
   "outputs": [
    {
     "name": "stdout",
     "output_type": "stream",
     "text": [
      "Hello, world\n"
     ]
    }
   ],
   "source": [
    "print('Hello, world') # classical for every language"
   ]
  },
  {
   "cell_type": "raw",
   "id": "d9b1d941",
   "metadata": {},
   "source": [
    "In this part, I will skip the basic, basic for python, like assign variables, evaluations\n",
    "The function definition and conditional statements will be presented. "
   ]
  },
  {
   "cell_type": "raw",
   "id": "1c40cc71",
   "metadata": {},
   "source": [
    "A comparator function is used to present how to \n",
    "1. define a function\n",
    "2. return a result\n",
    "3. add function description "
   ]
  },
  {
   "cell_type": "code",
   "execution_count": 2,
   "id": "bbc68c76",
   "metadata": {},
   "outputs": [],
   "source": [
    "def send_email(num_visits, visits_email, visits_coupon):\n",
    "    '''\n",
    "    Function: \n",
    "    :param num_visits: the number of times a customer has visited the theater\n",
    "    :param visits_email:the minimum number of visits the customer must have made for them to receive a marketing email\n",
    "The function must print either\n",
    "    :param visits_coupon:  the minimum number of visits the customer must have made for them to receive a coupon with their email\n",
    "    \n",
    "    :return promotion: if the customers can have the promotion\n",
    "    '''\n",
    "    promotions = '' # return result\n",
    "    if num_visits >= visits_coupon:\n",
    "        promotion = 'Send email with coupon.'        \n",
    "    elif num_visits >= visits_email:\n",
    "        promotion = 'Send email only.'\n",
    "    else:\n",
    "        promotion = 'Not enough visits.'\n",
    "    return promotion"
   ]
  },
  {
   "cell_type": "code",
   "execution_count": 4,
   "id": "85225897",
   "metadata": {},
   "outputs": [
    {
     "data": {
      "text/plain": [
       "'Not enough visits.'"
      ]
     },
     "execution_count": 4,
     "metadata": {},
     "output_type": "execute_result"
    }
   ],
   "source": [
    "send_email(num_visits=3, visits_email=5, visits_coupon=8)   # Should print 'Not enough visits.'"
   ]
  },
  {
   "cell_type": "code",
   "execution_count": 6,
   "id": "cba52914",
   "metadata": {},
   "outputs": [
    {
     "data": {
      "text/plain": [
       "'Send email only.'"
      ]
     },
     "execution_count": 6,
     "metadata": {},
     "output_type": "execute_result"
    }
   ],
   "source": [
    "send_email(num_visits=6, visits_email=5, visits_coupon=8)   # Should print 'Send email only.'"
   ]
  },
  {
   "cell_type": "code",
   "execution_count": 9,
   "id": "51082921",
   "metadata": {},
   "outputs": [
    {
     "data": {
      "text/plain": [
       "'Send email with coupon.'"
      ]
     },
     "execution_count": 9,
     "metadata": {},
     "output_type": "execute_result"
    }
   ],
   "source": [
    "send_email(num_visits=10, visits_email=5, visits_coupon=8) "
   ]
  },
  {
   "cell_type": "markdown",
   "id": "bce3e4f6",
   "metadata": {},
   "source": [
    "## Tips\n",
    "*   Conditional statements, comparison operators, and logical operators play a major role in automating processes and controlling the branching of code execution.\n",
    "*   Conditional statements allow you to determine whether a specific set of criteria has been met.\n",
    "*   Comparison operators allow you to compare pairs of values.\n",
    "*   Comparison operators such as `>=` and `<=` can be combined to select a range of data within a specific parameter.\n",
    "*   Logical operators such as `and` and `or` allow you to check more than one condition at a time."
   ]
  },
  {
   "cell_type": "markdown",
   "id": "14b7b3db",
   "metadata": {},
   "source": [
    "# Format strings\n",
    "Use format() method to insert values into your string, indicated by braces."
   ]
  },
  {
   "cell_type": "code",
   "execution_count": 11,
   "id": "85acb418",
   "metadata": {},
   "outputs": [
    {
     "name": "stdout",
     "output_type": "stream",
     "text": [
      "Base price: $7.75 USD. \n",
      "With tax: $8.29 USD.\n"
     ]
    }
   ],
   "source": [
    "price = 7.75\n",
    "with_tax = price * 1.07\n",
    "print('Base price: ${:.2f} USD. \\nWith tax: ${:.2f} USD.'.format(price, with_tax))"
   ]
  },
  {
   "cell_type": "code",
   "execution_count": 12,
   "id": "71aa6bfe",
   "metadata": {},
   "outputs": [
    {
     "name": "stdout",
     "output_type": "stream",
     "text": [
      "  0 F | -17.78 C\n",
      " 10 F | -12.22 C\n",
      " 20 F |  -6.67 C\n",
      " 30 F |  -1.11 C\n",
      " 40 F |   4.44 C\n",
      " 50 F |  10.00 C\n",
      " 60 F |  15.56 C\n",
      " 70 F |  21.11 C\n",
      " 80 F |  26.67 C\n",
      " 90 F |  32.22 C\n",
      "100 F |  37.78 C\n"
     ]
    }
   ],
   "source": [
    "# Define a function that converts Fahrenheit to Celsius.\n",
    "def to_celsius(x):\n",
    "    return (x-32) * 5/9\n",
    "\n",
    "# Create a temperature conversion table using string formatting\n",
    "for x in range(0, 101, 10):\n",
    "    print(\"{:>3} F | {:>6.2f} C\".format(x, to_celsius(x)))"
   ]
  },
  {
   "cell_type": "markdown",
   "id": "7169431b",
   "metadata": {},
   "source": [
    "# String slicing\n"
   ]
  },
  {
   "cell_type": "code",
   "execution_count": 13,
   "id": "ac18aa66",
   "metadata": {},
   "outputs": [
    {
     "data": {
      "text/plain": [
       "3"
      ]
     },
     "execution_count": 13,
     "metadata": {},
     "output_type": "execute_result"
    }
   ],
   "source": [
    "# The index() method returns index of character's first occurrence in string.\n",
    "pets = 'cats and dogs'\n",
    "pets.index('s')"
   ]
  },
  {
   "cell_type": "code",
   "execution_count": 15,
   "id": "cd339052",
   "metadata": {},
   "outputs": [
    {
     "data": {
      "text/plain": [
       "'J'"
      ]
     },
     "execution_count": 15,
     "metadata": {},
     "output_type": "execute_result"
    }
   ],
   "source": [
    "# Access the character at a given index of a string.\n",
    "name = 'Jolene'\n",
    "name[0]"
   ]
  },
  {
   "cell_type": "code",
   "execution_count": 19,
   "id": "2029a145",
   "metadata": {},
   "outputs": [
    {
     "data": {
      "text/plain": [
       "'nama!'"
      ]
     },
     "execution_count": 19,
     "metadata": {},
     "output_type": "execute_result"
    }
   ],
   "source": [
    "sentence = 'A man, a plan, a canal, Panama!'\n",
    "sentence[-5:]"
   ]
  },
  {
   "cell_type": "markdown",
   "id": "2cfd9ffa",
   "metadata": {},
   "source": [
    "# Iterate with a `while` loop"
   ]
  },
  {
   "cell_type": "code",
   "execution_count": 20,
   "id": "af040398",
   "metadata": {},
   "outputs": [
    {
     "name": "stdout",
     "output_type": "stream",
     "text": [
      "10\n",
      "9\n",
      "8\n",
      "7\n",
      "6\n",
      "Place your reservation soon! 5 minutes remaining.\n",
      "4\n",
      "3\n",
      "Don't lose your seats! 2 minutes remaining.\n",
      "1\n",
      "User timed out.\n"
     ]
    }
   ],
   "source": [
    "from time import sleep\n",
    "\n",
    "mins = 10\n",
    "\n",
    "while mins >= 0:\n",
    "    if mins == 5:\n",
    "        print('Place your reservation soon! 5 minutes remaining.')\n",
    "    elif mins == 2:\n",
    "        print('Don\\'t lose your seats! 2 minutes remaining.')\n",
    "    elif mins == 0:\n",
    "        print('User timed out.')\n",
    "    else:\n",
    "        print(mins)\n",
    "    mins -=1\n",
    "    sleep(1)"
   ]
  },
  {
   "cell_type": "markdown",
   "id": "60f9e32b",
   "metadata": {},
   "source": [
    "# Tips\n",
    "* `while` loops may cause a non-stop exectuion. Pay attention when setting a `while` condtion.\n",
    "* `while` loops allow you to repeat a process until a specific condition is no longer true.\n",
    "* Variables can be set as counters and incremented by different amounts to help control your `while` loop.\n"
   ]
  },
  {
   "cell_type": "markdown",
   "id": "43c31743",
   "metadata": {},
   "source": [
    "# List"
   ]
  },
  {
   "cell_type": "code",
   "execution_count": 21,
   "id": "f99dcc61",
   "metadata": {},
   "outputs": [
    {
     "name": "stdout",
     "output_type": "stream",
     "text": [
      "cooking\n"
     ]
    }
   ],
   "source": [
    "# Assign a list using brackets, with elements separated by commas.\n",
    "x = [\"Now\", \"we\", \"are\", \"cooking\", \"with\", 7, \"ingredients\"]\n",
    "\n",
    "# Print element at index 3.\n",
    "print(x[3])"
   ]
  },
  {
   "cell_type": "code",
   "execution_count": 22,
   "id": "ac87ba63",
   "metadata": {},
   "outputs": [
    {
     "data": {
      "text/plain": [
       "['we', 'are']"
      ]
     },
     "execution_count": 22,
     "metadata": {},
     "output_type": "execute_result"
    }
   ],
   "source": [
    "# Access part of a list by slicing.\n",
    "x[1:3]"
   ]
  },
  {
   "cell_type": "code",
   "execution_count": 23,
   "id": "c6856d40",
   "metadata": {},
   "outputs": [
    {
     "name": "stdout",
     "output_type": "stream",
     "text": [
      "['Pineapple', 'Banana', 'Apple', 'Melon', 'Kiwi']\n"
     ]
    }
   ],
   "source": [
    "# The append() method adds an element to the end of a list.\n",
    "fruits = ['Pineapple', 'Banana', 'Apple', 'Melon']\n",
    "fruits.append('Kiwi')\n",
    "print(fruits)"
   ]
  },
  {
   "cell_type": "code",
   "execution_count": 24,
   "id": "db70ee84",
   "metadata": {},
   "outputs": [
    {
     "name": "stdout",
     "output_type": "stream",
     "text": [
      "['Pineapple', 'Orange', 'Banana', 'Apple', 'Melon', 'Kiwi']\n"
     ]
    }
   ],
   "source": [
    "# The insert() method adds an element to a list at the specified index.\n",
    "fruits.insert(1, 'Orange')\n",
    "print(fruits)"
   ]
  },
  {
   "cell_type": "code",
   "execution_count": 25,
   "id": "18fc7ffd",
   "metadata": {},
   "outputs": [
    {
     "name": "stdout",
     "output_type": "stream",
     "text": [
      "['Pineapple', 'Orange', 'Apple', 'Melon', 'Kiwi']\n"
     ]
    }
   ],
   "source": [
    "# The remove() method deletes the first occurrence of an element in a list.\n",
    "fruits.remove('Banana')\n",
    "print(fruits)"
   ]
  },
  {
   "cell_type": "code",
   "execution_count": 26,
   "id": "56faff78",
   "metadata": {},
   "outputs": [
    {
     "name": "stdout",
     "output_type": "stream",
     "text": [
      "['Pineapple', 'Orange', 'Melon', 'Kiwi']\n"
     ]
    }
   ],
   "source": [
    "# The pop() method removes the element at a given index and returns it.\n",
    "# If no index is given, it removes and returns the last element.\n",
    "fruits.pop(2)\n",
    "print(fruits)"
   ]
  },
  {
   "cell_type": "code",
   "execution_count": 27,
   "id": "32156318",
   "metadata": {},
   "outputs": [
    {
     "name": "stdout",
     "output_type": "stream",
     "text": [
      "['Pineapple', 'Mango', 'Melon', 'Kiwi']\n"
     ]
    }
   ],
   "source": [
    "# Reassign the element at a given index with a new value.\n",
    "fruits[1] = 'Mango'\n",
    "print(fruits)"
   ]
  },
  {
   "cell_type": "markdown",
   "id": "63e2be6b",
   "metadata": {},
   "source": [
    "# Tuples"
   ]
  },
  {
   "cell_type": "code",
   "execution_count": 29,
   "id": "affc3db9",
   "metadata": {},
   "outputs": [
    {
     "name": "stdout",
     "output_type": "stream",
     "text": [
      "('Masha', 'Z', 'Hopper', 'Jr')\n"
     ]
    }
   ],
   "source": [
    "# Tuples are instantiated with parentheses.\n",
    "fullname = ('Masha', 'Z', 'Hopper')\n",
    "\n",
    "# Tuples are immutable, so their elements cannot be overwritten.\n",
    "# You can combine tuples using addition.\n",
    "fullname = fullname + ('Jr',)\n",
    "print(fullname)"
   ]
  },
  {
   "cell_type": "markdown",
   "id": "f01498d5",
   "metadata": {},
   "source": [
    "# Dictionaries"
   ]
  },
  {
   "cell_type": "code",
   "execution_count": 30,
   "id": "5e18417d",
   "metadata": {},
   "outputs": [
    {
     "data": {
      "text/plain": [
       "'zebras'"
      ]
     },
     "execution_count": 30,
     "metadata": {},
     "output_type": "execute_result"
    }
   ],
   "source": [
    "# Create a dictionary with pens as keys and the animals they contain as values.\n",
    "# Dictionaries can be instantiated using braces.\n",
    "zoo = {\n",
    "    'pen_1': 'penguins',\n",
    "    'pen_2': 'zebras',\n",
    "    'pen_3': 'lions',\n",
    "    }\n",
    "\n",
    "# Selecting the `pen_2` key returns `zebras`, the value stored at that key.\n",
    "zoo['pen_2']"
   ]
  },
  {
   "cell_type": "code",
   "execution_count": 32,
   "id": "a301d5a1",
   "metadata": {},
   "outputs": [
    {
     "data": {
      "text/plain": [
       "'zebras'"
      ]
     },
     "execution_count": 32,
     "metadata": {},
     "output_type": "execute_result"
    }
   ],
   "source": [
    "# Dictionaries can also be instantiated using the dict() function.\n",
    "zoo = dict(\n",
    "    pen_1='monkeys',\n",
    "    pen_2='zebras',\n",
    "    pen_3='lions',\n",
    "    )\n",
    "\n",
    "zoo['pen_2']"
   ]
  },
  {
   "cell_type": "code",
   "execution_count": 33,
   "id": "04005e2f",
   "metadata": {},
   "outputs": [
    {
     "data": {
      "text/plain": [
       "{'pen_1': 'monkeys',\n",
       " 'pen_2': 'zebras',\n",
       " 'pen_3': 'lions',\n",
       " 'pen_4': 'crocodiles'}"
      ]
     },
     "execution_count": 33,
     "metadata": {},
     "output_type": "execute_result"
    }
   ],
   "source": [
    "# Assign a new key: value pair to an existing dictionary.\n",
    "zoo['pen_4'] = 'crocodiles'\n",
    "zoo"
   ]
  },
  {
   "cell_type": "code",
   "execution_count": 34,
   "id": "f786d1ec",
   "metadata": {},
   "outputs": [],
   "source": [
    "team = [\n",
    "    ('Marta', 20, 'center'),\n",
    "    ('Ana', 22, 'point guard'),\n",
    "    ('Gabi', 22, 'shooting guard'),\n",
    "    ('Luz', 21, 'power forward'),\n",
    "    ('Lorena', 19, 'small forward'),\n",
    "    ]\n",
    "# Add new players to the list.\n",
    "team = [\n",
    "    ('Marta', 20, 'center'),\n",
    "    ('Ana', 22, 'point guard'),\n",
    "    ('Gabi', 22, 'shooting guard'),\n",
    "    ('Luz', 21, 'power forward'),\n",
    "    ('Lorena', 19, 'small forward'),\n",
    "    ('Sandra', 19, 'center'),\n",
    "    ('Mari', 18, 'point guard'),\n",
    "    ('Esme', 18, 'shooting guard'),\n",
    "    ('Lin', 18, 'power forward'),\n",
    "    ('Sol', 19, 'small forward'),\n",
    "    ]"
   ]
  },
  {
   "cell_type": "code",
   "execution_count": 35,
   "id": "307382df",
   "metadata": {},
   "outputs": [
    {
     "data": {
      "text/plain": [
       "{'center': [('Marta', 20), ('Sandra', 19)],\n",
       " 'point guard': [('Ana', 22), ('Mari', 18)],\n",
       " 'shooting guard': [('Gabi', 22), ('Esme', 18)],\n",
       " 'power forward': [('Luz', 21), ('Lin', 18)],\n",
       " 'small forward': [('Lorena', 19), ('Sol', 19)]}"
      ]
     },
     "execution_count": 35,
     "metadata": {},
     "output_type": "execute_result"
    }
   ],
   "source": [
    "# Instantiate an empty dictionary.\n",
    "new_team = {}\n",
    "\n",
    "# Loop over the tuples in the list of players and unpack their values.\n",
    "for name, age, position in team:\n",
    "    if position in new_team:                    # If position already a key in new_team,\n",
    "        new_team[position].append((name, age))  # append (name, age) tup to list at that value.\n",
    "    else:\n",
    "        new_team[position] = [(name, age)]      # If position not a key in new_team,\n",
    "                                                # create a new key whose value is a list\n",
    "                                                # containing (name, age) tup.\n",
    "new_team"
   ]
  },
  {
   "cell_type": "code",
   "execution_count": 36,
   "id": "375cbd0e",
   "metadata": {},
   "outputs": [
    {
     "data": {
      "text/plain": [
       "dict_keys(['center', 'point guard', 'shooting guard', 'power forward', 'small forward'])"
      ]
     },
     "execution_count": 36,
     "metadata": {},
     "output_type": "execute_result"
    }
   ],
   "source": [
    "# The keys() method returns the keys of a dictionary.\n",
    "new_team.keys()"
   ]
  },
  {
   "cell_type": "code",
   "execution_count": 37,
   "id": "3e36bb2f",
   "metadata": {},
   "outputs": [
    {
     "data": {
      "text/plain": [
       "dict_values([[('Marta', 20), ('Sandra', 19)], [('Ana', 22), ('Mari', 18)], [('Gabi', 22), ('Esme', 18)], [('Luz', 21), ('Lin', 18)], [('Lorena', 19), ('Sol', 19)]])"
      ]
     },
     "execution_count": 37,
     "metadata": {},
     "output_type": "execute_result"
    }
   ],
   "source": [
    "# The values() method returns all the values in a dictionary.\n",
    "new_team.values()"
   ]
  },
  {
   "cell_type": "code",
   "execution_count": 38,
   "id": "2cbca685",
   "metadata": {},
   "outputs": [
    {
     "name": "stdout",
     "output_type": "stream",
     "text": [
      "center [('Marta', 20), ('Sandra', 19)]\n",
      "point guard [('Ana', 22), ('Mari', 18)]\n",
      "shooting guard [('Gabi', 22), ('Esme', 18)]\n",
      "power forward [('Luz', 21), ('Lin', 18)]\n",
      "small forward [('Lorena', 19), ('Sol', 19)]\n"
     ]
    }
   ],
   "source": [
    "# The items() method returns both the keys and the values.\n",
    "for a, b in new_team.items():\n",
    "    print(a, b)"
   ]
  },
  {
   "cell_type": "markdown",
   "id": "1ec71843",
   "metadata": {},
   "source": [
    "# Sets"
   ]
  },
  {
   "cell_type": "code",
   "execution_count": 40,
   "id": "27d4755a",
   "metadata": {},
   "outputs": [
    {
     "name": "stdout",
     "output_type": "stream",
     "text": [
      "{'bar', 'baz', 'foo'}\n"
     ]
    }
   ],
   "source": [
    "# The set() function converts a list to a set.\n",
    "x = set(['foo', 'bar', 'baz', 'foo'])\n",
    "print(x)"
   ]
  },
  {
   "cell_type": "code",
   "execution_count": 42,
   "id": "14c9b09e",
   "metadata": {},
   "outputs": [
    {
     "name": "stdout",
     "output_type": "stream",
     "text": [
      "{4, 5, 6}\n",
      "{4, 5, 6}\n"
     ]
    }
   ],
   "source": [
    "# The intersection() method (&) returns common elements between two sets.\n",
    "set1 = {1, 2, 3, 4, 5, 6}\n",
    "set2 = {4, 5, 6, 7, 8, 9}\n",
    "print(set1.intersection(set2))\n",
    "print(set1 & set2)"
   ]
  },
  {
   "cell_type": "code",
   "execution_count": 43,
   "id": "52528c7d",
   "metadata": {},
   "outputs": [
    {
     "name": "stdout",
     "output_type": "stream",
     "text": [
      "{'qux', 'foo', 'bar', 'quux', 'baz'}\n",
      "{'qux', 'foo', 'bar', 'quux', 'baz'}\n"
     ]
    }
   ],
   "source": [
    "# The union() method (|) returns all the elements from two sets, each represented once.\n",
    "x1 = {'foo', 'bar', 'baz'}\n",
    "x2 = {'baz', 'qux', 'quux'}\n",
    "print(x1.union(x2))\n",
    "print(x1 | x2)"
   ]
  },
  {
   "cell_type": "code",
   "execution_count": 44,
   "id": "020eb2e8",
   "metadata": {},
   "outputs": [
    {
     "name": "stdout",
     "output_type": "stream",
     "text": [
      "{1, 2, 3}\n",
      "{1, 2, 3}\n"
     ]
    }
   ],
   "source": [
    "# The difference() method (-) returns the elements in set1 that aren't in set2\n",
    "set1 = {1, 2, 3, 4, 5, 6}\n",
    "set2 = {4, 5, 6, 7, 8, 9}\n",
    "print(set1.difference(set2))\n",
    "print(set1 - set2)"
   ]
  },
  {
   "cell_type": "code",
   "execution_count": 45,
   "id": "a54548b0",
   "metadata": {},
   "outputs": [
    {
     "data": {
      "text/plain": [
       "{1, 2, 3, 7, 8, 9}"
      ]
     },
     "execution_count": 45,
     "metadata": {},
     "output_type": "execute_result"
    }
   ],
   "source": [
    "# The symmetric_difference() method (^) returns all the values from each set that\n",
    "# are not in both sets.\n",
    "set1 = {1, 2, 3, 4, 5, 6}\n",
    "set2 = {4, 5, 6, 7, 8, 9}\n",
    "set2.symmetric_difference(set1)\n",
    "set2 ^ set1"
   ]
  },
  {
   "cell_type": "code",
   "execution_count": null,
   "id": "82a37875",
   "metadata": {},
   "outputs": [],
   "source": []
  }
 ],
 "metadata": {
  "kernelspec": {
   "display_name": "conda_py11",
   "language": "python",
   "name": "py11"
  },
  "language_info": {
   "codemirror_mode": {
    "name": "ipython",
    "version": 3
   },
   "file_extension": ".py",
   "mimetype": "text/x-python",
   "name": "python",
   "nbconvert_exporter": "python",
   "pygments_lexer": "ipython3",
   "version": "3.11.5"
  }
 },
 "nbformat": 4,
 "nbformat_minor": 5
}
